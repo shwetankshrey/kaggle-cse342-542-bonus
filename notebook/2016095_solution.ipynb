{
  "cells": [
    {
      "cell_type": "code",
      "execution_count": 16,
      "outputs": [],
      "source": "import cv2\nimport csv\nimport pickle\nfrom sklearn.decomposition import PCA\nfrom sklearn.ensemble import RandomForestClassifier",
      "metadata": {
        "pycharm": {
          "metadata": false,
          "name": "#%%\n",
          "is_executing": false
        }
      }
    },
    {
      "cell_type": "code",
      "execution_count": 17,
      "outputs": [],
      "source": "TRAIN_FOLDER \u003d \"/home/tanaka/Downloads/bonus_sml/sml_train/train_\"\nTRAIN_LABEL \u003d \"/home/tanaka/Downloads/bonus_sml/sml_train.csv\"\nTEST_FOLDER \u003d \"/home/tanaka/Downloads/bonus_sml/sml_validation/val_\"\nTEST_LABEL \u003d \"/home/tanaka/Downloads/bonus_sml/sml_val.csv\"",
      "metadata": {
        "pycharm": {
          "metadata": false,
          "name": "#%%\n",
          "is_executing": false
        }
      }
    },
    {
      "cell_type": "code",
      "execution_count": null,
      "outputs": [],
      "source": "X_train_raw \u003d [] \ny_train_raw \u003d []\nX_test_raw \u003d [] \ny_test_raw \u003d []",
      "metadata": {
        "pycharm": {
          "metadata": false,
          "name": "#%%\n"
        }
      }
    },
    {
      "cell_type": "code",
      "execution_count": null,
      "outputs": [],
      "source": "for i in range(10000):\n    f \u003d TRAIN_FOLDER + str(i) + \".jpg\"\n    im \u003d cv2.imread(f).flatten()\n    X_train_raw.append(im)",
      "metadata": {
        "pycharm": {
          "metadata": false,
          "name": "#%%\n"
        }
      }
    },
    {
      "cell_type": "code",
      "execution_count": null,
      "outputs": [],
      "source": "for i in range(1000):\n    f \u003d TEST_FOLDER + str(i) + \".jpg\"\n    im \u003d cv2.imread(f).flatten()\n    X_test_raw.append(im)",
      "metadata": {
        "pycharm": {
          "metadata": false,
          "name": "#%%\n"
        }
      }
    },
    {
      "cell_type": "code",
      "execution_count": null,
      "outputs": [],
      "source": "with open(TRAIN_LABEL, \u0027r\u0027) as csvfile:\n    csvreader \u003d csv.reader(csvfile)\n    head \u003d csvreader.__next__()\n    for row in csvreader:\n        y_train_raw.append(row[1])\ncsvfile.close()",
      "metadata": {
        "pycharm": {
          "metadata": false,
          "name": "#%%\n"
        }
      }
    },
    {
      "cell_type": "code",
      "execution_count": null,
      "outputs": [],
      "source": "with open(TEST_LABEL, \u0027r\u0027) as csvfile:\n    csvreader \u003d csv.reader(csvfile)\n    head \u003d csvreader.__next__()\n    for row in csvreader:\n        y_test_raw.append(row[1])\ncsvfile.close()",
      "metadata": {
        "pycharm": {
          "metadata": false,
          "name": "#%%\n"
        }
      }
    },
    {
      "cell_type": "code",
      "execution_count": null,
      "outputs": [],
      "source": "pca \u003d PCA(n_components\u003d15)\npca.fit(X_train_raw)",
      "metadata": {
        "pycharm": {
          "metadata": false,
          "name": "#%%\n"
        }
      }
    },
    {
      "cell_type": "code",
      "execution_count": null,
      "outputs": [],
      "source": "X_train_raw \u003d pca.transform(X_train_raw)\nX_test_raw \u003d pca.transform(X_test_raw)",
      "metadata": {
        "pycharm": {
          "metadata": false,
          "name": "#%%\n"
        }
      }
    },
    {
      "cell_type": "code",
      "execution_count": null,
      "outputs": [],
      "source": "clf \u003d RandomForestClassifier(n_estimators\u003d500)\nclf.fit(X_train_raw, y_train_raw)\ny_predict_raw \u003d clf.predict(X_test_raw)",
      "metadata": {
        "pycharm": {
          "metadata": false,
          "name": "#%%\n"
        }
      }
    },
    {
      "cell_type": "code",
      "execution_count": 28,
      "outputs": [],
      "source": "from sklearn.metrics import accuracy_score\nprint(\"Accuracy : \", accuracy_score(y_test_raw, y_predict_raw))",
      "metadata": {
        "pycharm": {
          "metadata": false,
          "name": "#%%\n",
          "is_executing": false
        }
      }
    }
  ],
  "metadata": {
    "language_info": {
      "codemirror_mode": {
        "name": "ipython",
        "version": 2
      },
      "file_extension": ".py",
      "mimetype": "text/x-python",
      "name": "python",
      "nbconvert_exporter": "python",
      "pygments_lexer": "ipython2",
      "version": "2.7.6"
    },
    "kernelspec": {
      "name": "python3",
      "language": "python",
      "display_name": "Python 3"
    },
    "stem_cell": {
      "cell_type": "raw",
      "source": "",
      "metadata": {
        "pycharm": {
          "metadata": false
        }
      }
    }
  },
  "nbformat": 4,
  "nbformat_minor": 0
}